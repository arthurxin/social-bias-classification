{
 "cells": [
  {
   "cell_type": "code",
   "execution_count": 16,
   "metadata": {},
   "outputs": [],
   "source": [
    "import pandas as pd\n",
    "import seaborn as sns\n",
    "\n",
    "from nltk.corpus import stopwords\n",
    "from nltk.stem import WordNetLemmatizer  \n",
    "stop_words = stopwords.words('english')\n",
    "\n",
    "import re\n",
    "\n",
    "from sklearn.naive_bayes import MultinomialNB\n",
    "\n",
    "import numpy as np\n",
    "import matplotlib.pyplot as plt\n",
    "from gensim.test.utils import datapath, get_tmpfile\n",
    "from gensim.models import KeyedVectors\n",
    "from gensim.scripts.glove2word2vec import glove2word2vec\n",
    "\n",
    "from sklearn.model_selection import train_test_split\n",
    "from sklearn.neural_network import MLPClassifier\n",
    "from sklearn.feature_extraction.text import TfidfVectorizer\n",
    "from sklearn.pipeline import make_pipeline\n",
    "\n",
    "import seaborn as sns; sns.set()\n",
    "from sklearn.metrics import confusion_matrix\n",
    "\n",
    "from sklearn.metrics import f1_score\n",
    "from sklearn.metrics import accuracy_score\n",
    "\n",
    "import nltk\n",
    "import string"
   ]
  },
  {
   "cell_type": "code",
   "execution_count": 2,
   "metadata": {},
   "outputs": [
    {
     "data": {
      "text/html": [
       "<div>\n",
       "<style scoped>\n",
       "    .dataframe tbody tr th:only-of-type {\n",
       "        vertical-align: middle;\n",
       "    }\n",
       "\n",
       "    .dataframe tbody tr th {\n",
       "        vertical-align: top;\n",
       "    }\n",
       "\n",
       "    .dataframe thead th {\n",
       "        text-align: right;\n",
       "    }\n",
       "</style>\n",
       "<table border=\"1\" class=\"dataframe\">\n",
       "  <thead>\n",
       "    <tr style=\"text-align: right;\">\n",
       "      <th></th>\n",
       "      <th>Unnamed: 0</th>\n",
       "      <th>targetCategory</th>\n",
       "      <th>post</th>\n",
       "      <th>y</th>\n",
       "    </tr>\n",
       "  </thead>\n",
       "  <tbody>\n",
       "    <tr>\n",
       "      <th>0</th>\n",
       "      <td>0</td>\n",
       "      <td>race</td>\n",
       "      <td>RT @iBeZo: Stupid fucking nigger LeBron. You f...</td>\n",
       "      <td>1</td>\n",
       "    </tr>\n",
       "    <tr>\n",
       "      <th>1</th>\n",
       "      <td>1</td>\n",
       "      <td>race</td>\n",
       "      <td>I need a girl from Jamaica I can't fuck with t...</td>\n",
       "      <td>1</td>\n",
       "    </tr>\n",
       "    <tr>\n",
       "      <th>2</th>\n",
       "      <td>2</td>\n",
       "      <td>gender</td>\n",
       "      <td>Molly make bitches crazy</td>\n",
       "      <td>2</td>\n",
       "    </tr>\n",
       "    <tr>\n",
       "      <th>3</th>\n",
       "      <td>3</td>\n",
       "      <td>race</td>\n",
       "      <td>This niggga said I be branding bitches &amp;#12856...</td>\n",
       "      <td>1</td>\n",
       "    </tr>\n",
       "    <tr>\n",
       "      <th>4</th>\n",
       "      <td>4</td>\n",
       "      <td>race</td>\n",
       "      <td>It's funny when u get a black female mad they ...</td>\n",
       "      <td>1</td>\n",
       "    </tr>\n",
       "    <tr>\n",
       "      <th>...</th>\n",
       "      <td>...</td>\n",
       "      <td>...</td>\n",
       "      <td>...</td>\n",
       "      <td>...</td>\n",
       "    </tr>\n",
       "    <tr>\n",
       "      <th>12075</th>\n",
       "      <td>12075</td>\n",
       "      <td>gender</td>\n",
       "      <td>Does anyone else have the suspicion that moder...</td>\n",
       "      <td>2</td>\n",
       "    </tr>\n",
       "    <tr>\n",
       "      <th>12076</th>\n",
       "      <td>12076</td>\n",
       "      <td>disabled</td>\n",
       "      <td>We need World War III\\nThen all Chads and Norm...</td>\n",
       "      <td>5</td>\n",
       "    </tr>\n",
       "    <tr>\n",
       "      <th>12077</th>\n",
       "      <td>12077</td>\n",
       "      <td>gender</td>\n",
       "      <td>Roasties can look like this and STILL be consi...</td>\n",
       "      <td>2</td>\n",
       "    </tr>\n",
       "    <tr>\n",
       "      <th>12078</th>\n",
       "      <td>12078</td>\n",
       "      <td>social</td>\n",
       "      <td>Help me find a video\\nI'm looking for a video ...</td>\n",
       "      <td>6</td>\n",
       "    </tr>\n",
       "    <tr>\n",
       "      <th>12079</th>\n",
       "      <td>12079</td>\n",
       "      <td>gender</td>\n",
       "      <td>What are you guys's thoughts on this sub8 ging...</td>\n",
       "      <td>2</td>\n",
       "    </tr>\n",
       "  </tbody>\n",
       "</table>\n",
       "<p>12080 rows × 4 columns</p>\n",
       "</div>"
      ],
      "text/plain": [
       "       Unnamed: 0 targetCategory  \\\n",
       "0               0           race   \n",
       "1               1           race   \n",
       "2               2         gender   \n",
       "3               3           race   \n",
       "4               4           race   \n",
       "...           ...            ...   \n",
       "12075       12075         gender   \n",
       "12076       12076       disabled   \n",
       "12077       12077         gender   \n",
       "12078       12078         social   \n",
       "12079       12079         gender   \n",
       "\n",
       "                                                    post  y  \n",
       "0      RT @iBeZo: Stupid fucking nigger LeBron. You f...  1  \n",
       "1      I need a girl from Jamaica I can't fuck with t...  1  \n",
       "2                               Molly make bitches crazy  2  \n",
       "3      This niggga said I be branding bitches &#12856...  1  \n",
       "4      It's funny when u get a black female mad they ...  1  \n",
       "...                                                  ... ..  \n",
       "12075  Does anyone else have the suspicion that moder...  2  \n",
       "12076  We need World War III\\nThen all Chads and Norm...  5  \n",
       "12077  Roasties can look like this and STILL be consi...  2  \n",
       "12078  Help me find a video\\nI'm looking for a video ...  6  \n",
       "12079  What are you guys's thoughts on this sub8 ging...  2  \n",
       "\n",
       "[12080 rows x 4 columns]"
      ]
     },
     "execution_count": 2,
     "metadata": {},
     "output_type": "execute_result"
    }
   ],
   "source": [
    "data = pd.read_csv(\"data.csv\")\n",
    "data"
   ]
  },
  {
   "cell_type": "code",
   "execution_count": 3,
   "metadata": {},
   "outputs": [
    {
     "data": {
      "text/html": [
       "<div>\n",
       "<style scoped>\n",
       "    .dataframe tbody tr th:only-of-type {\n",
       "        vertical-align: middle;\n",
       "    }\n",
       "\n",
       "    .dataframe tbody tr th {\n",
       "        vertical-align: top;\n",
       "    }\n",
       "\n",
       "    .dataframe thead th {\n",
       "        text-align: right;\n",
       "    }\n",
       "</style>\n",
       "<table border=\"1\" class=\"dataframe\">\n",
       "  <thead>\n",
       "    <tr style=\"text-align: right;\">\n",
       "      <th></th>\n",
       "      <th>post</th>\n",
       "      <th>targetCategory</th>\n",
       "    </tr>\n",
       "  </thead>\n",
       "  <tbody>\n",
       "    <tr>\n",
       "      <th>0</th>\n",
       "      <td>RT @iBeZo: Stupid fucking nigger LeBron. You f...</td>\n",
       "      <td>race</td>\n",
       "    </tr>\n",
       "    <tr>\n",
       "      <th>1</th>\n",
       "      <td>I need a girl from Jamaica I can't fuck with t...</td>\n",
       "      <td>race</td>\n",
       "    </tr>\n",
       "    <tr>\n",
       "      <th>2</th>\n",
       "      <td>Molly make bitches crazy</td>\n",
       "      <td>gender</td>\n",
       "    </tr>\n",
       "    <tr>\n",
       "      <th>3</th>\n",
       "      <td>This niggga said I be branding bitches &amp;#12856...</td>\n",
       "      <td>race</td>\n",
       "    </tr>\n",
       "    <tr>\n",
       "      <th>4</th>\n",
       "      <td>It's funny when u get a black female mad they ...</td>\n",
       "      <td>race</td>\n",
       "    </tr>\n",
       "    <tr>\n",
       "      <th>...</th>\n",
       "      <td>...</td>\n",
       "      <td>...</td>\n",
       "    </tr>\n",
       "    <tr>\n",
       "      <th>12075</th>\n",
       "      <td>Does anyone else have the suspicion that moder...</td>\n",
       "      <td>gender</td>\n",
       "    </tr>\n",
       "    <tr>\n",
       "      <th>12076</th>\n",
       "      <td>We need World War III\\nThen all Chads and Norm...</td>\n",
       "      <td>disabled</td>\n",
       "    </tr>\n",
       "    <tr>\n",
       "      <th>12077</th>\n",
       "      <td>Roasties can look like this and STILL be consi...</td>\n",
       "      <td>gender</td>\n",
       "    </tr>\n",
       "    <tr>\n",
       "      <th>12078</th>\n",
       "      <td>Help me find a video\\nI'm looking for a video ...</td>\n",
       "      <td>social</td>\n",
       "    </tr>\n",
       "    <tr>\n",
       "      <th>12079</th>\n",
       "      <td>What are you guys's thoughts on this sub8 ging...</td>\n",
       "      <td>gender</td>\n",
       "    </tr>\n",
       "  </tbody>\n",
       "</table>\n",
       "<p>12080 rows × 2 columns</p>\n",
       "</div>"
      ],
      "text/plain": [
       "                                                    post targetCategory\n",
       "0      RT @iBeZo: Stupid fucking nigger LeBron. You f...           race\n",
       "1      I need a girl from Jamaica I can't fuck with t...           race\n",
       "2                               Molly make bitches crazy         gender\n",
       "3      This niggga said I be branding bitches &#12856...           race\n",
       "4      It's funny when u get a black female mad they ...           race\n",
       "...                                                  ...            ...\n",
       "12075  Does anyone else have the suspicion that moder...         gender\n",
       "12076  We need World War III\\nThen all Chads and Norm...       disabled\n",
       "12077  Roasties can look like this and STILL be consi...         gender\n",
       "12078  Help me find a video\\nI'm looking for a video ...         social\n",
       "12079  What are you guys's thoughts on this sub8 ging...         gender\n",
       "\n",
       "[12080 rows x 2 columns]"
      ]
     },
     "execution_count": 3,
     "metadata": {},
     "output_type": "execute_result"
    }
   ],
   "source": [
    "X = data.iloc[:, [2,1]]\n",
    "X"
   ]
  },
  {
   "cell_type": "code",
   "execution_count": 4,
   "metadata": {},
   "outputs": [],
   "source": [
    "sw = stopwords.words('english')\n",
    "lemmatizer = WordNetLemmatizer()\n",
    "\n",
    "\n",
    "\n",
    "def cleantext(text):\n",
    "    text= text.lower()\n",
    "    text= re.sub(r\"[^a-zA-Z?.!,¿]+\", \" \", text)\n",
    "    text= re.sub(r\"http\\S+\", \"\",text)\n",
    "    text= re.sub(r\"http\", \"\",text)\n",
    "    \n",
    "    punctuations= '@#!?+&*[]-%.:/();$=><|{}^' + \"'`\" + '_'\n",
    "    for p in punctuations:\n",
    "        text= text.replace(p, '')\n",
    "        \n",
    "    text= [word.lower() for word in text.split() if word.lower() not in sw]\n",
    "    \n",
    "    text= [lemmatizer.lemmatize(word) for word in text]\n",
    "    \n",
    "    text = \" \".join(text)\n",
    "    \n",
    "    emoji_pattern = re.compile(\"[\"\n",
    "                           u\"\\U0001F600-\\U0001F64F\"  \n",
    "                           u\"\\U0001F300-\\U0001F5FF\"  \n",
    "                           u\"\\U0001F680-\\U0001F6FF\"  \n",
    "                           u\"\\U0001F1E0-\\U0001F1FF\"  \n",
    "                           u\"\\U00002702-\\U000027B0\"\n",
    "                           u\"\\U000024C2-\\U0001F251\"\n",
    "                           \"]+\", flags=re.UNICODE)\n",
    "    \n",
    "    text= emoji_pattern.sub(r'',text)\n",
    "    \n",
    "    return text"
   ]
  },
  {
   "cell_type": "code",
   "execution_count": 5,
   "metadata": {},
   "outputs": [],
   "source": [
    "import nltk"
   ]
  },
  {
   "cell_type": "code",
   "execution_count": 6,
   "metadata": {},
   "outputs": [
    {
     "name": "stderr",
     "output_type": "stream",
     "text": [
      "[nltk_data] Downloading package wordnet to /Users/arthur/nltk_data...\n",
      "[nltk_data]   Package wordnet is already up-to-date!\n"
     ]
    },
    {
     "data": {
      "text/plain": [
       "True"
      ]
     },
     "execution_count": 6,
     "metadata": {},
     "output_type": "execute_result"
    }
   ],
   "source": [
    "nltk.download('wordnet')"
   ]
  },
  {
   "cell_type": "code",
   "execution_count": 7,
   "metadata": {},
   "outputs": [
    {
     "name": "stderr",
     "output_type": "stream",
     "text": [
      "<ipython-input-7-b1fd811f9254>:1: SettingWithCopyWarning: \n",
      "A value is trying to be set on a copy of a slice from a DataFrame.\n",
      "Try using .loc[row_indexer,col_indexer] = value instead\n",
      "\n",
      "See the caveats in the documentation: https://pandas.pydata.org/pandas-docs/stable/user_guide/indexing.html#returning-a-view-versus-a-copy\n",
      "  X['post'] = X['post'].apply(lambda x: cleantext(x))\n"
     ]
    },
    {
     "data": {
      "text/html": [
       "<div>\n",
       "<style scoped>\n",
       "    .dataframe tbody tr th:only-of-type {\n",
       "        vertical-align: middle;\n",
       "    }\n",
       "\n",
       "    .dataframe tbody tr th {\n",
       "        vertical-align: top;\n",
       "    }\n",
       "\n",
       "    .dataframe thead th {\n",
       "        text-align: right;\n",
       "    }\n",
       "</style>\n",
       "<table border=\"1\" class=\"dataframe\">\n",
       "  <thead>\n",
       "    <tr style=\"text-align: right;\">\n",
       "      <th></th>\n",
       "      <th>post</th>\n",
       "      <th>targetCategory</th>\n",
       "    </tr>\n",
       "  </thead>\n",
       "  <tbody>\n",
       "    <tr>\n",
       "      <th>0</th>\n",
       "      <td>rt ibezo stupid fucking nigger lebron flopping...</td>\n",
       "      <td>race</td>\n",
       "    </tr>\n",
       "    <tr>\n",
       "      <th>1</th>\n",
       "      <td>need girl jamaica fuck basic black bitch</td>\n",
       "      <td>race</td>\n",
       "    </tr>\n",
       "    <tr>\n",
       "      <th>2</th>\n",
       "      <td>molly make bitch crazy</td>\n",
       "      <td>gender</td>\n",
       "    </tr>\n",
       "    <tr>\n",
       "      <th>3</th>\n",
       "      <td>niggga said branding bitch</td>\n",
       "      <td>race</td>\n",
       "    </tr>\n",
       "    <tr>\n",
       "      <th>4</th>\n",
       "      <td>funny u get black female mad start acting ghet...</td>\n",
       "      <td>race</td>\n",
       "    </tr>\n",
       "  </tbody>\n",
       "</table>\n",
       "</div>"
      ],
      "text/plain": [
       "                                                post targetCategory\n",
       "0  rt ibezo stupid fucking nigger lebron flopping...           race\n",
       "1           need girl jamaica fuck basic black bitch           race\n",
       "2                             molly make bitch crazy         gender\n",
       "3                         niggga said branding bitch           race\n",
       "4  funny u get black female mad start acting ghet...           race"
      ]
     },
     "execution_count": 7,
     "metadata": {},
     "output_type": "execute_result"
    }
   ],
   "source": [
    "X['post'] = X['post'].apply(lambda x: cleantext(x))\n",
    " \n",
    "X.head() "
   ]
  },
  {
   "cell_type": "code",
   "execution_count": 8,
   "metadata": {},
   "outputs": [
    {
     "name": "stderr",
     "output_type": "stream",
     "text": [
      "<ipython-input-8-6a7a233d6453>:5: SettingWithCopyWarning: \n",
      "A value is trying to be set on a copy of a slice from a DataFrame.\n",
      "Try using .loc[row_indexer,col_indexer] = value instead\n",
      "\n",
      "See the caveats in the documentation: https://pandas.pydata.org/pandas-docs/stable/user_guide/indexing.html#returning-a-view-versus-a-copy\n",
      "  X['TargetCategory_enc'] = le.fit_transform(data['targetCategory'])\n"
     ]
    },
    {
     "data": {
      "text/html": [
       "<div>\n",
       "<style scoped>\n",
       "    .dataframe tbody tr th:only-of-type {\n",
       "        vertical-align: middle;\n",
       "    }\n",
       "\n",
       "    .dataframe tbody tr th {\n",
       "        vertical-align: top;\n",
       "    }\n",
       "\n",
       "    .dataframe thead th {\n",
       "        text-align: right;\n",
       "    }\n",
       "</style>\n",
       "<table border=\"1\" class=\"dataframe\">\n",
       "  <thead>\n",
       "    <tr style=\"text-align: right;\">\n",
       "      <th></th>\n",
       "      <th>post</th>\n",
       "      <th>targetCategory</th>\n",
       "      <th>TargetCategory_enc</th>\n",
       "    </tr>\n",
       "  </thead>\n",
       "  <tbody>\n",
       "    <tr>\n",
       "      <th>0</th>\n",
       "      <td>rt ibezo stupid fucking nigger lebron flopping...</td>\n",
       "      <td>race</td>\n",
       "      <td>4</td>\n",
       "    </tr>\n",
       "    <tr>\n",
       "      <th>1</th>\n",
       "      <td>need girl jamaica fuck basic black bitch</td>\n",
       "      <td>race</td>\n",
       "      <td>4</td>\n",
       "    </tr>\n",
       "    <tr>\n",
       "      <th>2</th>\n",
       "      <td>molly make bitch crazy</td>\n",
       "      <td>gender</td>\n",
       "      <td>3</td>\n",
       "    </tr>\n",
       "    <tr>\n",
       "      <th>3</th>\n",
       "      <td>niggga said branding bitch</td>\n",
       "      <td>race</td>\n",
       "      <td>4</td>\n",
       "    </tr>\n",
       "    <tr>\n",
       "      <th>4</th>\n",
       "      <td>funny u get black female mad start acting ghet...</td>\n",
       "      <td>race</td>\n",
       "      <td>4</td>\n",
       "    </tr>\n",
       "  </tbody>\n",
       "</table>\n",
       "</div>"
      ],
      "text/plain": [
       "                                                post targetCategory  \\\n",
       "0  rt ibezo stupid fucking nigger lebron flopping...           race   \n",
       "1           need girl jamaica fuck basic black bitch           race   \n",
       "2                             molly make bitch crazy         gender   \n",
       "3                         niggga said branding bitch           race   \n",
       "4  funny u get black female mad start acting ghet...           race   \n",
       "\n",
       "   TargetCategory_enc  \n",
       "0                   4  \n",
       "1                   4  \n",
       "2                   3  \n",
       "3                   4  \n",
       "4                   4  "
      ]
     },
     "metadata": {},
     "output_type": "display_data"
    },
    {
     "name": "stdout",
     "output_type": "stream",
     "text": [
      "post                  object\n",
      "targetCategory        object\n",
      "TargetCategory_enc     int64\n",
      "dtype: object\n"
     ]
    }
   ],
   "source": [
    "from sklearn.preprocessing import LabelEncoder# Initialize the Label Encoder.\n",
    "le = LabelEncoder()\n",
    "\n",
    "# Encode the categories\n",
    "X['TargetCategory_enc'] = le.fit_transform(data['targetCategory'])\n",
    "\n",
    "# Display the first five rows again to see the result\n",
    "display(X.head())\n",
    "\n",
    "# Print the datatypes\n",
    "print(X.dtypes)"
   ]
  },
  {
   "cell_type": "code",
   "execution_count": 9,
   "metadata": {},
   "outputs": [],
   "source": [
    "from sklearn.model_selection import train_test_split\n",
    "\n",
    "A = X.post\n",
    "y = X.targetCategory\n",
    "\n",
    "X_train, X_test, y_train, y_test = train_test_split(A, y, test_size=0.2, random_state = 42)"
   ]
  },
  {
   "cell_type": "markdown",
   "metadata": {},
   "source": [
    "## tfidf + naive bayesian"
   ]
  },
  {
   "cell_type": "code",
   "execution_count": 10,
   "metadata": {},
   "outputs": [],
   "source": [
    "m = make_pipeline(TfidfVectorizer(), MultinomialNB())"
   ]
  },
  {
   "cell_type": "code",
   "execution_count": 11,
   "metadata": {},
   "outputs": [
    {
     "data": {
      "text/plain": [
       "Pipeline(steps=[('tfidfvectorizer', TfidfVectorizer()),\n",
       "                ('multinomialnb', MultinomialNB())])"
      ]
     },
     "execution_count": 11,
     "metadata": {},
     "output_type": "execute_result"
    }
   ],
   "source": [
    "m.fit(X_train, y_train)"
   ]
  },
  {
   "cell_type": "code",
   "execution_count": 12,
   "metadata": {},
   "outputs": [
    {
     "data": {
      "text/plain": [
       "array(['race', 'gender', 'race', ..., 'gender', 'culture', 'race'],\n",
       "      dtype='<U8')"
      ]
     },
     "execution_count": 12,
     "metadata": {},
     "output_type": "execute_result"
    }
   ],
   "source": [
    "y_pred_em = m.predict(X_test)\n",
    "y_pred_em"
   ]
  },
  {
   "cell_type": "code",
   "execution_count": 13,
   "metadata": {},
   "outputs": [
    {
     "data": {
      "text/plain": [
       "array([[  0,   3,   0,  43,  27,   0,   6],\n",
       "       [  0, 227,   0,  44, 146,   0,   6],\n",
       "       [  0,   7,  12,  57,  82,   0,   1],\n",
       "       [  0,   1,   0, 557,  62,   0,   2],\n",
       "       [  0,  18,   0,  51, 631,   0,   4],\n",
       "       [  0,  10,   0,  53,  52,   1,   1],\n",
       "       [  0,  28,   0, 113, 113,   0,  58]])"
      ]
     },
     "execution_count": 13,
     "metadata": {},
     "output_type": "execute_result"
    }
   ],
   "source": [
    "confusionmat_embeded = confusion_matrix(y_test, y_pred_em)\n",
    "confusionmat_embeded"
   ]
  },
  {
   "cell_type": "code",
   "execution_count": 18,
   "metadata": {},
   "outputs": [
    {
     "name": "stdout",
     "output_type": "stream",
     "text": [
      "Architecture 1 accuracy: 0.6150662251655629\n",
      "Architecture 1 microaveraged F1 score: 0.6150662251655629\n",
      "Architecture 1 macroaveraged F1 score: 0.3579796960450362\n"
     ]
    }
   ],
   "source": [
    "accuracy = accuracy_score(y_test, y_pred_em)\n",
    "microaveraged_F1_score = f1_score(y_test, y_pred_em, average='micro')\n",
    "macroaveraged_F1_score = f1_score(y_test, y_pred_em, average='macro')\n",
    "print(\"Architecture 1 accuracy:\", accuracy)\n",
    "print(\"Architecture 1 microaveraged F1 score:\", microaveraged_F1_score)\n",
    "print(\"Architecture 1 macroaveraged F1 score:\", macroaveraged_F1_score)"
   ]
  },
  {
   "cell_type": "markdown",
   "metadata": {},
   "source": [
    "## golve + mlp"
   ]
  },
  {
   "cell_type": "code",
   "execution_count": 17,
   "metadata": {},
   "outputs": [],
   "source": [
    "sw_set=stopwords.words('english')+list(string.punctuation)"
   ]
  },
  {
   "cell_type": "code",
   "execution_count": 18,
   "metadata": {},
   "outputs": [
    {
     "name": "stderr",
     "output_type": "stream",
     "text": [
      "<ipython-input-18-d146e412ce6d>:3: DeprecationWarning: Call to deprecated `glove2word2vec` (KeyedVectors.load_word2vec_format(.., binary=False, no_header=True) loads GLoVE text vectors.).\n",
      "  glove2word2vec(glove_file, word2vec_text_file)\n"
     ]
    },
    {
     "data": {
      "text/plain": [
       "(400001, 100)"
      ]
     },
     "execution_count": 18,
     "metadata": {},
     "output_type": "execute_result"
    }
   ],
   "source": [
    "glove_file = datapath('/Users/arthur/Desktop/1_learning/nlp/project/glove.6B.100d.txt')\n",
    "word2vec_text_file = get_tmpfile(\"glove.6B.100d.word2vec.txt\")\n",
    "glove2word2vec(glove_file, word2vec_text_file)"
   ]
  },
  {
   "cell_type": "code",
   "execution_count": 19,
   "metadata": {},
   "outputs": [],
   "source": [
    "model_em = KeyedVectors.load_word2vec_format(word2vec_text_file)"
   ]
  },
  {
   "cell_type": "code",
   "execution_count": 20,
   "metadata": {},
   "outputs": [
    {
     "name": "stderr",
     "output_type": "stream",
     "text": [
      "[nltk_data] Downloading package stopwords to\n",
      "[nltk_data]     /Users/arthur/nltk_data...\n",
      "[nltk_data]   Package stopwords is already up-to-date!\n"
     ]
    }
   ],
   "source": [
    "## use my impelementation of calc_doc_embedding\n",
    "OOV_embed = dict()\n",
    "def calc_doc_embedding(doc, model, embed_size, OOV_embed):\n",
    "    \n",
    "    words = doc.split(\" \")\n",
    "    doc_embed = np.zeros(embed_size)\n",
    "    for word in words:\n",
    "        if word not in stopset:\n",
    "            try: \n",
    "                embed = model.get_vector(word)\n",
    "            except:\n",
    "                try:\n",
    "                    embed = OOV_embed[word]\n",
    "                except:\n",
    "                    embed = np.random.rand(embed_size)\n",
    "                    OOV_embed[word] = embed\n",
    "                    \n",
    "            doc_embed += embed\n",
    "    \n",
    "    doc_embed = doc_embed/(len(words))\n",
    "        \n",
    "    \n",
    "    return doc_embed\n",
    "\n",
    "nltk.download('stopwords')\n",
    "stopset = stopwords.words('english') + list(string.punctuation)"
   ]
  },
  {
   "cell_type": "code",
   "execution_count": 21,
   "metadata": {},
   "outputs": [],
   "source": [
    "import numpy as np\n",
    "X_train_embeded = np.vstack([calc_doc_embedding(d, model_em, 100, OOV_embed) for d in X_train])\n",
    "X_test_embeded = np.vstack([calc_doc_embedding(d, model_em, 100, OOV_embed) for d in X_test])"
   ]
  },
  {
   "cell_type": "code",
   "execution_count": 22,
   "metadata": {},
   "outputs": [
    {
     "name": "stdout",
     "output_type": "stream",
     "text": [
      "Iteration 1, loss = 1.63840036\n",
      "Iteration 2, loss = 1.28714485\n",
      "Iteration 3, loss = 1.17980140\n",
      "Iteration 4, loss = 1.12395824\n",
      "Iteration 5, loss = 1.06835989\n",
      "Iteration 6, loss = 1.03392986\n",
      "Iteration 7, loss = 1.00511514\n",
      "Iteration 8, loss = 0.98341453\n",
      "Iteration 9, loss = 0.96202592\n",
      "Iteration 10, loss = 0.94039643\n",
      "Iteration 11, loss = 0.92239795\n",
      "Iteration 12, loss = 0.89397378\n",
      "Iteration 13, loss = 0.87745803\n",
      "Iteration 14, loss = 0.86242547\n",
      "Iteration 15, loss = 0.84947542\n",
      "Iteration 16, loss = 0.82631882\n",
      "Iteration 17, loss = 0.81991374\n",
      "Iteration 18, loss = 0.80550167\n",
      "Iteration 19, loss = 0.79334702\n",
      "Iteration 20, loss = 0.78018672\n",
      "Iteration 21, loss = 0.76558464\n",
      "Iteration 22, loss = 0.75186563\n",
      "Iteration 23, loss = 0.74043357\n",
      "Iteration 24, loss = 0.72536596\n",
      "Iteration 25, loss = 0.71289635\n",
      "Iteration 26, loss = 0.70530896\n",
      "Iteration 27, loss = 0.69088091\n",
      "Iteration 28, loss = 0.68281532\n",
      "Iteration 29, loss = 0.67155434\n",
      "Iteration 30, loss = 0.67070685\n",
      "Iteration 31, loss = 0.66192817\n",
      "Iteration 32, loss = 0.64138581\n",
      "Iteration 33, loss = 0.62823787\n",
      "Iteration 34, loss = 0.62581890\n",
      "Iteration 35, loss = 0.61941900\n",
      "Iteration 36, loss = 0.59867986\n",
      "Iteration 37, loss = 0.59108164\n",
      "Iteration 38, loss = 0.58138129\n",
      "Iteration 39, loss = 0.57615665\n",
      "Iteration 40, loss = 0.55937674\n",
      "Iteration 41, loss = 0.55175006\n",
      "Iteration 42, loss = 0.53734295\n",
      "Iteration 43, loss = 0.53868620\n",
      "Iteration 44, loss = 0.52430868\n",
      "Iteration 45, loss = 0.52454603\n",
      "Iteration 46, loss = 0.51617225\n",
      "Iteration 47, loss = 0.49535780\n",
      "Iteration 48, loss = 0.48198608\n",
      "Iteration 49, loss = 0.50408788\n",
      "Iteration 50, loss = 0.46960039\n",
      "Iteration 51, loss = 0.46466148\n",
      "Iteration 52, loss = 0.45661593\n",
      "Iteration 53, loss = 0.47104261\n",
      "Iteration 54, loss = 0.45040658\n",
      "Iteration 55, loss = 0.43910191\n",
      "Iteration 56, loss = 0.42518882\n",
      "Iteration 57, loss = 0.42348364\n",
      "Iteration 58, loss = 0.41843505\n",
      "Iteration 59, loss = 0.41233461\n",
      "Iteration 60, loss = 0.39033001\n",
      "Iteration 61, loss = 0.41450191\n",
      "Iteration 62, loss = 0.39494499\n",
      "Iteration 63, loss = 0.38199264\n",
      "Iteration 64, loss = 0.38463758\n",
      "Iteration 65, loss = 0.36862371\n",
      "Iteration 66, loss = 0.36597552\n",
      "Iteration 67, loss = 0.34965321\n",
      "Iteration 68, loss = 0.33744663\n",
      "Iteration 69, loss = 0.32874712\n",
      "Iteration 70, loss = 0.32448947\n",
      "Iteration 71, loss = 0.32482594\n",
      "Iteration 72, loss = 0.31983820\n",
      "Iteration 73, loss = 0.30392282\n",
      "Iteration 74, loss = 0.30172506\n",
      "Iteration 75, loss = 0.30039554\n",
      "Iteration 76, loss = 0.29071159\n",
      "Iteration 77, loss = 0.28678817\n",
      "Iteration 78, loss = 0.28147779\n",
      "Iteration 79, loss = 0.26468325\n",
      "Iteration 80, loss = 0.26557999\n",
      "Iteration 81, loss = 0.26419744\n",
      "Iteration 82, loss = 0.24625159\n",
      "Iteration 83, loss = 0.24490601\n",
      "Iteration 84, loss = 0.24609688\n",
      "Iteration 85, loss = 0.25108484\n",
      "Iteration 86, loss = 0.23864370\n",
      "Iteration 87, loss = 0.23837084\n",
      "Iteration 88, loss = 0.22820060\n",
      "Iteration 89, loss = 0.21952092\n",
      "Iteration 90, loss = 0.23994826\n",
      "Iteration 91, loss = 0.20759778\n",
      "Iteration 92, loss = 0.20904776\n",
      "Iteration 93, loss = 0.20440494\n",
      "Iteration 94, loss = 0.21247326\n",
      "Iteration 95, loss = 0.18666372\n",
      "Iteration 96, loss = 0.19012136\n",
      "Iteration 97, loss = 0.18064571\n",
      "Iteration 98, loss = 0.17803730\n",
      "Iteration 99, loss = 0.16237039\n",
      "Iteration 100, loss = 0.17245124\n",
      "Iteration 101, loss = 0.16746110\n",
      "Iteration 102, loss = 0.15544128\n",
      "Iteration 103, loss = 0.15086291\n",
      "Iteration 104, loss = 0.14863259\n",
      "Iteration 105, loss = 0.15217000\n",
      "Iteration 106, loss = 0.14516844\n",
      "Iteration 107, loss = 0.15518631\n",
      "Iteration 108, loss = 0.14296670\n",
      "Iteration 109, loss = 0.13029862\n",
      "Iteration 110, loss = 0.12875332\n",
      "Iteration 111, loss = 0.12365130\n",
      "Iteration 112, loss = 0.12878340\n",
      "Iteration 113, loss = 0.12736865\n",
      "Iteration 114, loss = 0.11225131\n",
      "Iteration 115, loss = 0.12026532\n",
      "Iteration 116, loss = 0.13308740\n",
      "Iteration 117, loss = 0.11004610\n",
      "Iteration 118, loss = 0.11343011\n",
      "Iteration 119, loss = 0.10761083\n",
      "Iteration 120, loss = 0.09683283\n",
      "Iteration 121, loss = 0.08874275\n",
      "Iteration 122, loss = 0.08234116\n",
      "Iteration 123, loss = 0.09989119\n",
      "Iteration 124, loss = 0.09018486\n",
      "Iteration 125, loss = 0.07951263\n",
      "Iteration 126, loss = 0.08116966\n",
      "Iteration 127, loss = 0.08676056\n",
      "Iteration 128, loss = 0.08277865\n",
      "Iteration 129, loss = 0.12737563\n",
      "Iteration 130, loss = 0.12030667\n",
      "Iteration 131, loss = 0.12402387\n",
      "Iteration 132, loss = 0.08969037\n",
      "Iteration 133, loss = 0.07440895\n",
      "Iteration 134, loss = 0.07365904\n",
      "Iteration 135, loss = 0.07366900\n",
      "Iteration 136, loss = 0.07608913\n",
      "Iteration 137, loss = 0.06508306\n",
      "Iteration 138, loss = 0.06520828\n",
      "Iteration 139, loss = 0.06005649\n",
      "Iteration 140, loss = 0.06092144\n",
      "Iteration 141, loss = 0.07060499\n",
      "Iteration 142, loss = 0.08492316\n",
      "Iteration 143, loss = 0.07658896\n",
      "Iteration 144, loss = 0.06986047\n",
      "Iteration 145, loss = 0.07827865\n",
      "Iteration 146, loss = 0.08146344\n",
      "Iteration 147, loss = 0.09851601\n",
      "Iteration 148, loss = 0.12749788\n",
      "Iteration 149, loss = 0.07673678\n",
      "Iteration 150, loss = 0.06075606\n",
      "Training loss did not improve more than tol=0.000100 for 10 consecutive epochs. Stopping.\n"
     ]
    },
    {
     "data": {
      "text/plain": [
       "MLPClassifier(hidden_layer_sizes=(88, 64, 59, 22), verbose=True)"
      ]
     },
     "execution_count": 22,
     "metadata": {},
     "output_type": "execute_result"
    }
   ],
   "source": [
    "neural_model = MLPClassifier(hidden_layer_sizes=(88,64,59,22),verbose=True)\n",
    "neural_model.fit(X_train_embeded, y_train)"
   ]
  },
  {
   "cell_type": "code",
   "execution_count": 27,
   "metadata": {},
   "outputs": [
    {
     "data": {
      "text/plain": [
       "array(['social', 'victim', 'disabled', ..., 'gender', 'gender', 'race'],\n",
       "      dtype='<U8')"
      ]
     },
     "execution_count": 27,
     "metadata": {},
     "output_type": "execute_result"
    }
   ],
   "source": [
    "y_pred_em = neural_model.predict(X_test_embeded)\n",
    "y_pred_em"
   ]
  },
  {
   "cell_type": "code",
   "execution_count": 28,
   "metadata": {},
   "outputs": [
    {
     "data": {
      "text/plain": [
       "array([[  9,   5,   6,  26,  14,   1,  18],\n",
       "       [  3, 290,   6,  27,  52,  11,  34],\n",
       "       [ 11,   8,  70,  22,  18,   7,  23],\n",
       "       [ 12,  28,  15, 405,  84,  23,  55],\n",
       "       [  7,  71,  13,  57, 512,  24,  20],\n",
       "       [  2,  17,   3,  26,  18,  45,   6],\n",
       "       [ 19,  52,  17,  62,  37,   8, 117]])"
      ]
     },
     "execution_count": 28,
     "metadata": {},
     "output_type": "execute_result"
    }
   ],
   "source": [
    "confusionmat_embeded = confusion_matrix(y_test, y_pred_em)\n",
    "confusionmat_embeded"
   ]
  },
  {
   "cell_type": "code",
   "execution_count": 29,
   "metadata": {},
   "outputs": [
    {
     "data": {
      "text/plain": [
       "Text(0.5, 1.0, 'Embedded confusion matrix')"
      ]
     },
     "execution_count": 29,
     "metadata": {},
     "output_type": "execute_result"
    },
    {
     "data": {
      "image/png": "[encoded data removed]",
      "text/plain": [
       "<Figure size 360x360 with 1 Axes>"
      ]
     },
     "metadata": {},
     "output_type": "display_data"
    }
   ],
   "source": [
    "import seaborn as sns\n",
    "from sklearn.metrics import confusion_matrix\n",
    "import matplotlib.pyplot as plt\n",
    "from sklearn.metrics import f1_score\n",
    "plt.figure(figsize=(5,5))\n",
    "\n",
    "sns.heatmap(confusionmat_embeded.T, square=True, annot=True, fmt='d', cbar=False, \n",
    "            xticklabels=np.unique(y_train), yticklabels=np.unique(y_train))\n",
    "\n",
    "plt.xlabel('true Label')\n",
    "plt.ylabel('predicted Label')\n",
    "plt.title('Embedded confusion matrix')"
   ]
  },
  {
   "cell_type": "code",
   "execution_count": 30,
   "metadata": {},
   "outputs": [
    {
     "name": "stdout",
     "output_type": "stream",
     "text": [
      "Architecture 2 microaveraged F1 score: 0.5993377483443708\n",
      "Architecture 2 macroaveraged F1 score: 0.48606847988237695\n"
     ]
    }
   ],
   "source": [
    "microaveraged_F1_score = f1_score(y_test, y_pred_em, average='micro')\n",
    "macroaveraged_F1_score = f1_score(y_test, y_pred_em, average='macro')\n",
    "print(\"Architecture 2 microaveraged F1 score:\", microaveraged_F1_score)\n",
    "print(\"Architecture 2 macroaveraged F1 score:\", macroaveraged_F1_score)"
   ]
  },
  {
   "cell_type": "code",
   "execution_count": null,
   "metadata": {},
   "outputs": [],
   "source": []
  }
 ],
 "metadata": {
  "kernelspec": {
   "display_name": "Python 3",
   "language": "python",
   "name": "python3"
  },
  "language_info": {
   "codemirror_mode": {
    "name": "ipython",
    "version": 3
   },
   "file_extension": ".py",
   "mimetype": "text/x-python",
   "name": "python",
   "nbconvert_exporter": "python",
   "pygments_lexer": "ipython3",
   "version": "3.8.8"
  }
 },
 "nbformat": 4,
 "nbformat_minor": 4
}
